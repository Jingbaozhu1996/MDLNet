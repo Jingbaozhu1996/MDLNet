{
 "cells": [
  {
   "cell_type": "code",
   "execution_count": 1,
   "metadata": {},
   "outputs": [],
   "source": [
    "import os\n",
    "import sys\n",
    "import random\n",
    "import pandas as pd\n",
    "import numpy as np\n",
    "#import cv2\n",
    "import matplotlib.pyplot as plt\n",
    "\n",
    "import tensorflow as tf\n",
    "from tensorflow import keras\n",
    "## Seeding \n",
    "\n",
    "def setup_seed(seed):\n",
    "    random.seed(seed)  # 为python设置随机种子\n",
    "    np.random.seed(seed)  # 为numpy设置随机种子\n",
    "    tf.random.set_seed(seed)  # tf cpu fix seed\n",
    "    os.environ['TF_DETERMINISTIC_OPS'] = '1'  # tf gpu fix seed, please `pip install tensorflow-determinism` first\n",
    "\n",
    "setup_seed(2020)\n",
    "\n",
    "\n",
    "seed = 2020\n",
    "random.seed = 2020\n",
    "np.random.seed = 2020\n",
    "tf.seed = 2020\n",
    "tf.random.set_seed(2020)\n"
   ]
  },
  {
   "cell_type": "code",
   "execution_count": 2,
   "metadata": {},
   "outputs": [],
   "source": [
    "from keras.layers import add, ConvLSTM2D, Reshape, Dense, AveragePooling2D, Input, Conv2DTranspose, TimeDistributed, Dropout, Flatten\n",
    "from keras.callbacks import ModelCheckpoint, LearningRateScheduler\n",
    "from keras.layers import add, Reshape, Dense, Input, TimeDistributed, Dropout, Activation, LSTM, Conv1D, Cropping1D,GRU\n",
    "from keras.layers import MaxPooling1D, UpSampling1D, Cropping1D, SpatialDropout1D, Bidirectional, BatchNormalization \n",
    "from keras.models import Model, Sequential\n",
    "import keras\n",
    "from keras.models import Sequential\n",
    "from keras.layers.normalization import BatchNormalization\n",
    "from keras.layers.convolutional import Conv2D\n",
    "from keras.layers.convolutional import MaxPooling2D\n",
    "from keras.layers.core import Activation\n",
    "from keras.layers.core import Dropout\n",
    "from keras.layers.core import Dense\n",
    "from keras.layers import Flatten\n",
    "from keras.layers import Input\n",
    "from keras.models import Model\n",
    "from keras.callbacks import ModelCheckpoint, LearningRateScheduler\n",
    "from keras.callbacks import ReduceLROnPlateau\n",
    "from keras.callbacks import EarlyStopping\n",
    "from keras import metrics\n",
    "from keras.optimizers import Adam\n",
    "import matplotlib"
   ]
  },
  {
   "cell_type": "code",
   "execution_count": 3,
   "metadata": {},
   "outputs": [
    {
     "name": "stdout",
     "output_type": "stream",
     "text": [
      "(53286, 1200)\n"
     ]
    }
   ],
   "source": [
    "#时域模态信息\n",
    "\n",
    "import scipy.io as scio\n",
    "import pandas as pd\n",
    "\n",
    "#1 input\n",
    "feature1 = r'\\时域1-5s\\ACC_EW.mat'\n",
    "data1 = scio.loadmat(feature1)\n",
    "AA=data1['ACC_EW']\n",
    "A=AA[:,0:400]\n",
    "\n",
    "feature2 = r'\\时域1-5s\\ACC_NS.mat'\n",
    "data2 = scio.loadmat(feature2)\n",
    "BB=data2['ACC_NS']\n",
    "B=BB[:,0:400]\n",
    "\n",
    "feature3 = r'\\时域1-5s\\ACC_UD.mat'\n",
    "data3 = scio.loadmat(feature3)\n",
    "CC=data3['ACC_UD']\n",
    "C=CC[:,0:400]\n",
    "\n",
    "\n",
    "raw_data1=np.hstack((A,B))\n",
    "x_data=np.hstack((raw_data1,C))\n",
    "\n",
    "print(x_data.shape)\n"
   ]
  },
  {
   "cell_type": "code",
   "execution_count": 4,
   "metadata": {},
   "outputs": [
    {
     "name": "stdout",
     "output_type": "stream",
     "text": [
      "(53286, 600)\n"
     ]
    }
   ],
   "source": [
    "#频域模态信息\n",
    "\n",
    "import scipy.io as scio\n",
    "import pandas as pd\n",
    "\n",
    "#input\n",
    "feature1s = r'\\频域\\3s\\spec_EW.mat'\n",
    "data1s = scio.loadmat(feature1s)\n",
    "AAs=data1s['spec_EW']\n",
    "As=AAs[:,0:200]\n",
    "\n",
    "feature2s = r'\\频域\\3s\\spec_NS.mat'\n",
    "data2s = scio.loadmat(feature2s)\n",
    "BBs=data2s['spec_NS']\n",
    "Bs=BBs[:,0:200]\n",
    "\n",
    "feature3s = r'\\频域\\3s\\spec_UD.mat'\n",
    "data3s = scio.loadmat(feature3s)\n",
    "CCs=data3s['spec_UD']\n",
    "Cs=CCs[:,0:200]\n",
    "\n",
    "raw_data1s=np.hstack((As,Bs))\n",
    "x_datas=np.hstack((raw_data1s,Cs))\n",
    "\n",
    "print(x_datas.shape)\n",
    "\n"
   ]
  },
  {
   "cell_type": "code",
   "execution_count": 5,
   "metadata": {},
   "outputs": [
    {
     "name": "stdout",
     "output_type": "stream",
     "text": [
      "[0.01591836 0.06319288 1.28865615 0.00216419 1.30908207 0.00139702\n",
      " 0.1574331  0.30811366 0.00250608 1.        ]\n",
      "(53286, 10)\n"
     ]
    }
   ],
   "source": [
    "#特征模态信息\n",
    "\n",
    "import scipy.io as scio\n",
    "import pandas as pd\n",
    "\n",
    "label = pd.read_csv(open(r'\\特征模态信息3s.csv',encoding='UTF-8'))\n",
    "y_data=label.iloc[:,[0,1,2,3,4,5,6,7,8,9]].values  #特征嵌入\n",
    "print(y_data[0])\n",
    "print(y_data.shape)"
   ]
  },
  {
   "cell_type": "code",
   "execution_count": 6,
   "metadata": {},
   "outputs": [],
   "source": [
    "from sklearn.model_selection import train_test_split  #random_state=21  24  26  27  65\n",
    "#时域划分\n",
    "train_xxt, test_xxt, train_y1, test_y1 = train_test_split(x_data, y_data, test_size=0.2, random_state=30) \n",
    "#频域划分\n",
    "train_xxs, test_xxs, train_y1, test_y1 = train_test_split(x_datas, y_data, test_size=0.2, random_state=30) "
   ]
  },
  {
   "cell_type": "code",
   "execution_count": 7,
   "metadata": {},
   "outputs": [
    {
     "name": "stdout",
     "output_type": "stream",
     "text": [
      "(42628, 1)\n",
      "[1.]\n",
      "(42628, 9)\n",
      "[7.6042600e-04 3.7566390e-03 8.8836015e-02 2.4579300e-05 1.3273381e-01\n",
      " 1.1320200e-05 2.7224624e-01 2.6569918e-01 2.0702300e-04]\n",
      "(10658, 1)\n",
      "[2.]\n",
      "(10658, 9)\n",
      "[0.02253614 0.07986302 0.60228547 0.04616989 1.73744674 0.00363566\n",
      " 1.52385847 0.83315002 0.03434189]\n"
     ]
    }
   ],
   "source": [
    "train_y=train_y1[:,[9]]\n",
    "train_feature=train_y1[:,[0,1,2,3,4,5,6,7,8]]\n",
    "print(train_y.shape)\n",
    "print(train_y[1])\n",
    "\n",
    "print(train_feature.shape)\n",
    "print(train_feature[1])\n",
    "\n",
    "\n",
    "test_y=test_y1[:,[9]]\n",
    "test_feature=test_y1[:,[0,1,2,3,4,5,6,7,8]]\n",
    "print(test_y.shape)\n",
    "print(test_y[1])\n",
    "\n",
    "print(test_feature.shape)\n",
    "print(test_feature[1])\n"
   ]
  },
  {
   "cell_type": "code",
   "execution_count": 8,
   "metadata": {},
   "outputs": [],
   "source": [
    "#时域模态 训练\n",
    "train_xt=[]\n",
    "for i in range(len(train_xxt)):\n",
    "    train_xt.append(np.array(train_xxt[i].reshape(3,1,400)).T)"
   ]
  },
  {
   "cell_type": "code",
   "execution_count": 9,
   "metadata": {},
   "outputs": [],
   "source": [
    "#时域模态 测试\n",
    "test_xt=[]\n",
    "for i in range(len(test_xxt)):\n",
    "    test_xt.append(np.array(test_xxt[i].reshape(3,1,400)).T)"
   ]
  },
  {
   "cell_type": "code",
   "execution_count": 10,
   "metadata": {},
   "outputs": [],
   "source": [
    "#频域模态 训练\n",
    "train_xs=[]\n",
    "for i in range(len(train_xxs)):\n",
    "    train_xs.append(np.array(train_xxs[i].reshape(3,1,200)).T)\n"
   ]
  },
  {
   "cell_type": "code",
   "execution_count": 11,
   "metadata": {},
   "outputs": [],
   "source": [
    "#频域模态 测试\n",
    "test_xs=[]\n",
    "for i in range(len(test_xxs)):\n",
    "    test_xs.append(np.array(test_xxs[i].reshape(3,1,200)).T)"
   ]
  },
  {
   "cell_type": "code",
   "execution_count": 12,
   "metadata": {},
   "outputs": [],
   "source": [
    "train_xt=np.array(train_xt)\n",
    "test_xt=np.array(test_xt)\n",
    "\n",
    "train_xs=np.array(train_xs)\n",
    "test_xs=np.array(test_xs)"
   ]
  },
  {
   "cell_type": "code",
   "execution_count": 13,
   "metadata": {},
   "outputs": [
    {
     "name": "stdout",
     "output_type": "stream",
     "text": [
      "0 42628\n",
      "1 400\n",
      "(42628, 400, 3)\n",
      "0 42628\n",
      "1 200\n",
      "(42628, 200, 3)\n"
     ]
    }
   ],
   "source": [
    "#3#  ##Reshaping\n",
    "#时域\n",
    "train_xt = np.reshape(train_xt, (train_xt.shape[0], 400, 3))\n",
    "test_xt = np.reshape(test_xt, (test_xt.shape[0], 400, 3))\n",
    "print(\"0\",train_xt.shape[0])\n",
    "print(\"1\",train_xt.shape[1])\n",
    "print(train_xt.shape)\n",
    "\n",
    "\n",
    "#频域\n",
    "train_xs = np.reshape(train_xs, (train_xs.shape[0], 200, 3))\n",
    "test_xs = np.reshape(test_xs, (test_xs.shape[0], 200, 3))\n",
    "print(\"0\",train_xs.shape[0])\n",
    "print(\"1\",train_xs.shape[1])\n",
    "print(train_xs.shape)\n",
    "\n"
   ]
  },
  {
   "cell_type": "code",
   "execution_count": 14,
   "metadata": {},
   "outputs": [],
   "source": [
    "seed=50\n",
    "def Timedomain(x):\n",
    "    \n",
    "    x = tf.keras.layers.Conv1D(128, 3, activation='relu', padding='same',\\\n",
    "                            kernel_initializer=keras.initializers.he_normal(seed=2020),\\\n",
    "                            bias_initializer=keras.initializers.he_normal(seed=2020))(x)  \n",
    "    x = tf.keras.layers.MaxPooling1D(pool_size=2,strides=2,padding=\"same\")(x) # 高宽各减半的池化层  pool_size=2,strides=2,\n",
    "\n",
    "    x = tf.keras.layers.Conv1D(64, 3, activation='relu', padding='same',\\\n",
    "                            kernel_initializer=keras.initializers.he_normal(seed=2020),\\\n",
    "                            bias_initializer=keras.initializers.he_normal(seed=2020))(x)  \n",
    "    x = tf.keras.layers.MaxPooling1D(pool_size=2,strides=2,padding=\"same\")(x) # 高宽各减半的池化层  pool_size=2,strides=2,\n",
    "    \n",
    "    \n",
    "    x = tf.keras.layers.Conv1D(32, 3, activation='relu', padding='same',\\\n",
    "                            kernel_initializer=keras.initializers.he_normal(seed=2020),\\\n",
    "                            bias_initializer=keras.initializers.he_normal(seed=2020))(x)  \n",
    "    x = tf.keras.layers.MaxPooling1D(pool_size=2,strides=2,padding=\"same\")(x) # 高宽各减半的池化层  pool_size=2\n",
    "    x = tf.keras.layers.Dropout(rate=0.2)(x) #0.458\n",
    "    \n",
    "\n",
    "    x = tf.keras.layers.Bidirectional(GRU(128,use_bias=True, return_sequences = True,activation='tanh',\\\n",
    "                                          kernel_initializer=keras.initializers.he_normal(seed=2020),\\\n",
    "                                          bias_initializer=keras.initializers.he_normal(seed=2020),recurrent_activation='sigmoid',\\\n",
    "                                          reset_after = True,recurrent_dropout=0,unroll=False,\\\n",
    "                                          recurrent_initializer=keras.initializers.he_normal(seed=2020)))(x)    \n",
    "    \n",
    "    x = tf.keras.layers.Bidirectional(GRU(64,use_bias=True, return_sequences = False,activation='tanh',\\\n",
    "                                          kernel_initializer=keras.initializers.he_normal(seed=2020),\\\n",
    "                                          bias_initializer=keras.initializers.he_normal(seed=2020),recurrent_activation='sigmoid',\\\n",
    "                                          reset_after = True,recurrent_dropout=0,unroll=False,\\\n",
    "                                          recurrent_initializer=keras.initializers.he_normal(seed=2020)))(x)\n",
    "    x = tf.keras.layers.Dropout(rate=0.2)(x) #0.458    \n",
    "    \n",
    "    return x\n",
    "\n",
    "def Specdomain(x):\n",
    "    \n",
    "    x = tf.keras.layers.Conv1D(64, 3, activation='relu', padding='same',\\\n",
    "                            kernel_initializer=keras.initializers.he_normal(seed=2020),\\\n",
    "                            bias_initializer=keras.initializers.he_normal(seed=2020))(x)  \n",
    "    x = tf.keras.layers.MaxPooling1D(pool_size=2,strides=2,padding=\"same\")(x) # 高宽各减半的池化层  pool_size=2\n",
    "    \n",
    "    \n",
    "    x = tf.keras.layers.Conv1D(32, 3, activation='relu', padding='same',\\\n",
    "                            kernel_initializer=keras.initializers.he_normal(seed=2020),\\\n",
    "                            bias_initializer=keras.initializers.he_normal(seed=2020))(x)  \n",
    "    x = tf.keras.layers.MaxPooling1D(pool_size=2,strides=2,padding=\"same\")(x) # 高宽各减半的池化层  pool_size=2\n",
    "    x = tf.keras.layers.Dropout(rate=0.2)(x) #0.458\n",
    "\n",
    "    x = tf.keras.layers.Bidirectional(GRU(64,use_bias=True, return_sequences = True,activation='tanh',\\\n",
    "                                          kernel_initializer=keras.initializers.he_normal(seed=2020),\\\n",
    "                                          bias_initializer=keras.initializers.he_normal(seed=2020),recurrent_activation='sigmoid',\\\n",
    "                                          reset_after = True,recurrent_dropout=0,unroll=False,\\\n",
    "                                          recurrent_initializer=keras.initializers.he_normal(seed=2020)))(x)\n",
    "    \n",
    "\n",
    "    x = tf.keras.layers.Bidirectional(GRU(32,use_bias=True, return_sequences = False,activation='tanh',\\\n",
    "                                          kernel_initializer=keras.initializers.he_normal(seed=2020),\\\n",
    "                                          bias_initializer=keras.initializers.he_normal(seed=2020),recurrent_activation='sigmoid',\\\n",
    "                                          reset_after = True,recurrent_dropout=0,unroll=False,\\\n",
    "                                          recurrent_initializer=keras.initializers.he_normal(seed=2020)))(x)\n",
    "    x = tf.keras.layers.Dropout(rate=0.2)(x) #0.458     \n",
    "    \n",
    "    \n",
    "    return x"
   ]
  },
  {
   "cell_type": "code",
   "execution_count": 15,
   "metadata": {},
   "outputs": [],
   "source": [
    "seed=50\n",
    "drop_rate = 0.2\n",
    "from tensorflow import keras\n",
    "from keras.models import Model\n",
    "def CRmodel():\n",
    "\n",
    "    \n",
    "\n",
    "    inpt3 = tf.keras.layers.Input(shape=(9,1))   #加入特征模态\n",
    "    \n",
    "    x3 = tf.keras.layers.Flatten()(inpt3) # 打平层，方便全连接层处理 \n",
    "\n",
    "    e = Dense(64, activation='relu')(x3)#relu\n",
    "    e = Dense(32, activation='relu')(e)\n",
    "    e = Dense(3)(e)\n",
    "    oupts = Activation('softmax', name='output_layer')(e)\n",
    "  \n",
    "    model=Model(inputs=[inpt3], outputs=oupts)\n",
    "\n",
    "    return model"
   ]
  },
  {
   "cell_type": "code",
   "execution_count": 16,
   "metadata": {},
   "outputs": [
    {
     "name": "stdout",
     "output_type": "stream",
     "text": [
      "Model: \"functional_1\"\n",
      "_________________________________________________________________\n",
      "Layer (type)                 Output Shape              Param #   \n",
      "=================================================================\n",
      "input_1 (InputLayer)         [(None, 9, 1)]            0         \n",
      "_________________________________________________________________\n",
      "flatten (Flatten)            (None, 9)                 0         \n",
      "_________________________________________________________________\n",
      "dense (Dense)                (None, 64)                640       \n",
      "_________________________________________________________________\n",
      "dense_1 (Dense)              (None, 32)                2080      \n",
      "_________________________________________________________________\n",
      "dense_2 (Dense)              (None, 3)                 99        \n",
      "_________________________________________________________________\n",
      "output_layer (Activation)    (None, 3)                 0         \n",
      "=================================================================\n",
      "Total params: 2,819\n",
      "Trainable params: 2,819\n",
      "Non-trainable params: 0\n",
      "_________________________________________________________________\n"
     ]
    }
   ],
   "source": [
    "#优点：由于DNN几乎可以拟合任何函数，所以DNN的非线性拟合能力非常强。往往深而窄的网络要更节约资源。\n",
    "from keras.layers import Dense,SimpleRNN,Embedding,GRU,Bidirectional\n",
    "from keras import regularizers\n",
    "from tensorflow.keras import layers,Sequential,losses,optimizers,datasets\n",
    "from keras.callbacks import EarlyStopping\n",
    "from keras.callbacks import ReduceLROnPlateau\n",
    "from sklearn.utils import class_weight\n",
    "from keras.layers import Dense,SimpleRNN,Embedding,GRU,Bidirectional\n",
    "from keras import regularizers\n",
    "\n",
    "\n",
    "model = CRmodel()\n",
    "model.summary()"
   ]
  },
  {
   "cell_type": "code",
   "execution_count": 17,
   "metadata": {},
   "outputs": [],
   "source": [
    "### TRAIN A MODEL FOR EACH STORES USING ALL THE DATA AVAILALBE FROM OTHER STORES ###\n",
    "\n",
    "seed = 2020\n",
    "random.seed = 2020\n",
    "np.random.seed = 2020\n",
    "tf.seed = 2020\n",
    "tf.random.set_seed(2020)\n"
   ]
  },
  {
   "cell_type": "code",
   "execution_count": 18,
   "metadata": {},
   "outputs": [
    {
     "name": "stdout",
     "output_type": "stream",
     "text": [
      "Epoch 1/500\n",
      "150/150 [==============================] - 0s 3ms/step - loss: 0.5585 - acc: 0.8046 - val_loss: 0.3460 - val_acc: 0.8799\n",
      "Epoch 2/500\n",
      "150/150 [==============================] - 0s 2ms/step - loss: 0.3107 - acc: 0.8923 - val_loss: 0.2794 - val_acc: 0.9008\n",
      "Epoch 3/500\n",
      "150/150 [==============================] - 0s 2ms/step - loss: 0.2669 - acc: 0.9055 - val_loss: 0.2644 - val_acc: 0.9071\n",
      "Epoch 4/500\n",
      "150/150 [==============================] - 0s 2ms/step - loss: 0.2549 - acc: 0.9078 - val_loss: 0.2550 - val_acc: 0.9073\n",
      "Epoch 5/500\n",
      "150/150 [==============================] - 0s 2ms/step - loss: 0.2462 - acc: 0.9093 - val_loss: 0.2471 - val_acc: 0.9111\n",
      "Epoch 6/500\n",
      "150/150 [==============================] - 0s 3ms/step - loss: 0.2415 - acc: 0.9097 - val_loss: 0.2429 - val_acc: 0.9120\n",
      "Epoch 7/500\n",
      "150/150 [==============================] - 1s 3ms/step - loss: 0.2373 - acc: 0.9108 - val_loss: 0.2361 - val_acc: 0.9127\n",
      "Epoch 8/500\n",
      "150/150 [==============================] - 0s 3ms/step - loss: 0.2340 - acc: 0.9123 - val_loss: 0.2330 - val_acc: 0.9127\n",
      "Epoch 9/500\n",
      "150/150 [==============================] - 0s 3ms/step - loss: 0.2306 - acc: 0.9124 - val_loss: 0.2268 - val_acc: 0.9141\n",
      "Epoch 10/500\n",
      "150/150 [==============================] - 0s 3ms/step - loss: 0.2276 - acc: 0.9140 - val_loss: 0.2252 - val_acc: 0.9148\n",
      "Epoch 11/500\n",
      "150/150 [==============================] - 0s 3ms/step - loss: 0.2269 - acc: 0.9139 - val_loss: 0.2224 - val_acc: 0.9179\n",
      "Epoch 12/500\n",
      "150/150 [==============================] - 0s 3ms/step - loss: 0.2239 - acc: 0.9150 - val_loss: 0.2197 - val_acc: 0.9151\n",
      "Epoch 13/500\n",
      "150/150 [==============================] - 0s 3ms/step - loss: 0.2201 - acc: 0.9162 - val_loss: 0.2197 - val_acc: 0.9160\n",
      "Epoch 14/500\n",
      "150/150 [==============================] - 0s 3ms/step - loss: 0.2194 - acc: 0.9162 - val_loss: 0.2155 - val_acc: 0.9174\n",
      "Epoch 15/500\n",
      "150/150 [==============================] - 0s 3ms/step - loss: 0.2174 - acc: 0.9166 - val_loss: 0.2147 - val_acc: 0.9177\n",
      "Epoch 16/500\n",
      "150/150 [==============================] - 0s 3ms/step - loss: 0.2164 - acc: 0.9176 - val_loss: 0.2140 - val_acc: 0.9170\n",
      "Epoch 17/500\n",
      "150/150 [==============================] - 0s 3ms/step - loss: 0.2139 - acc: 0.9183 - val_loss: 0.2126 - val_acc: 0.9172\n",
      "Epoch 18/500\n",
      "150/150 [==============================] - 0s 3ms/step - loss: 0.2134 - acc: 0.9187 - val_loss: 0.2130 - val_acc: 0.9172\n",
      "Epoch 19/500\n",
      "150/150 [==============================] - 0s 3ms/step - loss: 0.2131 - acc: 0.9186 - val_loss: 0.2124 - val_acc: 0.9177\n",
      "Epoch 20/500\n",
      "150/150 [==============================] - 0s 3ms/step - loss: 0.2132 - acc: 0.9185 - val_loss: 0.2123 - val_acc: 0.9172\n",
      "Epoch 21/500\n",
      "150/150 [==============================] - 0s 3ms/step - loss: 0.2130 - acc: 0.9187 - val_loss: 0.2121 - val_acc: 0.9172\n"
     ]
    }
   ],
   "source": [
    "import time\n",
    "import datetime\n",
    "epochs=500  # how many passes through our data\n",
    "\n",
    "\n",
    "lr_reducer = ReduceLROnPlateau(monitor='val_acc',\n",
    "                               factor=0.1,\n",
    "                                cooldown= 0,\n",
    "                                patience= 5, #patience= 5\n",
    "                                min_lr=0.5e-6) #min_lr=0.5e-6\n",
    "\n",
    "early_stopping_monitor = EarlyStopping(monitor= 'val_acc', patience = 10) #patience = 45   10\n",
    "callbacks = [lr_reducer, early_stopping_monitor]\n",
    "\n",
    "rms = optimizers.Adam(lr=0.001, beta_1=0.9, beta_2=0.999, epsilon=1e-08)\n",
    "model.compile(optimizer=rms, loss=losses.sparse_categorical_crossentropy,metrics=[\"acc\"])\n",
    "\n",
    "history=model.fit([train_feature], train_y, epochs = epochs,batch_size = 256,shuffle=True,\\\n",
    "                  validation_split=0.1,callbacks=callbacks) #epochs = 20, batch_size = 64   ,class_weight=weights\n"
   ]
  },
  {
   "cell_type": "code",
   "execution_count": 19,
   "metadata": {},
   "outputs": [
    {
     "data": {
      "image/png": "[encoded data removed]",
      "text/plain": [
       "<Figure size 432x288 with 1 Axes>"
      ]
     },
     "metadata": {
      "needs_background": "light"
     },
     "output_type": "display_data"
    },
    {
     "data": {
      "image/png": "[encoded data removed]",
      "text/plain": [
       "<Figure size 432x288 with 1 Axes>"
      ]
     },
     "metadata": {
      "needs_background": "light"
     },
     "output_type": "display_data"
    }
   ],
   "source": [
    "loss = history.history['loss']\n",
    "val_loss = history.history['val_loss']\n",
    "acc = history.history['acc']\n",
    "val_acc = history.history['val_acc']\n",
    "epoch = history.epoch\n",
    "\n",
    "plt.plot(epoch,loss, label='loss')\n",
    "plt.plot(epoch, val_loss, label='val loss')\n",
    "plt.legend()\n",
    "plt.title('epochs vs loss')\n",
    "plt.show()\n",
    "\n",
    "plt.plot(epoch,acc, label='accuracy')\n",
    "plt.plot(epoch, val_acc, label='val accuracy')\n",
    "plt.legend()\n",
    "plt.title('epochs vs accuracy')\n",
    "plt.show()  "
   ]
  },
  {
   "cell_type": "code",
   "execution_count": 20,
   "metadata": {},
   "outputs": [
    {
     "name": "stdout",
     "output_type": "stream",
     "text": [
      "334/334 [==============================] - 1s 2ms/step - loss: 0.2095 - acc: 0.9186\n",
      "1333/1333 [==============================] - 2s 2ms/step - loss: 0.2126 - acc: 0.9185\n",
      "[0.20948518812656403, 0.9185588359832764]\n",
      "[0.21258053183555603, 0.9185277223587036]\n"
     ]
    }
   ],
   "source": [
    "results_test = model.evaluate([test_feature], test_y)\n",
    "results_train = model.evaluate([train_feature], train_y)\n",
    "print(results_test)\n",
    "print(results_train)"
   ]
  },
  {
   "cell_type": "code",
   "execution_count": 21,
   "metadata": {},
   "outputs": [],
   "source": [
    "def plot_confusion_matrix(cm, classes,\n",
    "                          normalize = False,\n",
    "                          title = 'Confusion matrix\"',\n",
    "                          cmap = plt.cm.Blues) :\n",
    "    plt.rcParams['font.sans-serif']=['times new roman'] #显示中文标签\n",
    "    plt.imshow(cm, interpolation = 'nearest', cmap = cmap)\n",
    "    plt.title(title,fontproperties='Times New Roman', size=12)\n",
    "    cb=plt.colorbar()\n",
    "    cb.set_label(label='Number of records',fontproperties='Times New Roman',size=10)\n",
    "    cb.ax.tick_params(labelsize=10)\n",
    "    tick_marks = np.arange(len(classes))\n",
    "    plt.xticks(tick_marks, classes, rotation = 0,fontproperties='Times New Roman', size=10)\n",
    "    plt.yticks(tick_marks, classes,fontproperties='Times New Roman', size=10)\n",
    "\n",
    "    thresh = cm.max() / 2.\n",
    "    for i, j in itertools.product(range(cm.shape[0]), range(cm.shape[1])) :\n",
    "        plt.text(j, i, cm[i, j],fontproperties='Times New Roman', size=10,\n",
    "                 horizontalalignment = 'center',\n",
    "                 color = 'white' if cm[i, j] > thresh else 'black')\n",
    "\n",
    "    plt.tight_layout()\n",
    "    plt.ylabel('True label',fontproperties='Times New Roman', fontsize=10)\n",
    "    plt.xlabel('Predicted label', fontproperties='Times New Roman',fontsize=10)"
   ]
  },
  {
   "cell_type": "code",
   "execution_count": 22,
   "metadata": {},
   "outputs": [
    {
     "name": "stdout",
     "output_type": "stream",
     "text": [
      "(42628, 3)\n",
      "(42628,)\n",
      "             precision    recall  f1-score   support\n",
      "\n",
      "        0.0     0.9636    0.9698    0.9667     20803\n",
      "        1.0     0.8987    0.9088    0.9037     16232\n",
      "        2.0     0.8013    0.7561    0.7780      5593\n",
      "\n",
      "avg / total     0.9176    0.9185    0.9180     42628\n",
      "\n"
     ]
    },
    {
     "data": {
      "image/png": "[encoded data removed]",
      "text/plain": [
       "<Figure size 432x288 with 2 Axes>"
      ]
     },
     "metadata": {
      "needs_background": "light"
     },
     "output_type": "display_data"
    }
   ],
   "source": [
    "#Train result\n",
    "predictions_train = model.predict([train_feature])\n",
    "print(predictions_train.shape)\n",
    "train_pre = np.argmax(predictions_train,axis = 1)\n",
    "print(train_pre.shape)\n",
    "\n",
    "#训练结果\n",
    "import sklearn\n",
    "import sklearn.metrics\n",
    "import matplotlib.pyplot as plt   \n",
    "import itertools\n",
    "from sklearn.metrics import accuracy_score\n",
    "cm=sklearn.metrics.confusion_matrix(train_y, train_pre)\n",
    "\n",
    "plot_confusion_matrix(cm,classes=['0','1','2'],title='Confusion Matrix')\n",
    "\n",
    "\n",
    "from sklearn.metrics import classification_report\n",
    "print(classification_report(train_y, train_pre,digits=4))\n"
   ]
  },
  {
   "cell_type": "code",
   "execution_count": 23,
   "metadata": {},
   "outputs": [
    {
     "name": "stdout",
     "output_type": "stream",
     "text": [
      "(10658, 3)\n",
      "(10658,)\n",
      "             precision    recall  f1-score   support\n",
      "\n",
      "        0.0    0.96262   0.96891   0.96575      5210\n",
      "        1.0    0.89794   0.90997   0.90392      4032\n",
      "        2.0    0.80798   0.75777   0.78207      1416\n",
      "\n",
      "avg / total    0.91761   0.91856   0.91796     10658\n",
      "\n",
      "accuracy: 0.918558829048602\n"
     ]
    },
    {
     "data": {
      "image/png": "[encoded data removed]",
      "text/plain": [
       "<Figure size 432x288 with 2 Axes>"
      ]
     },
     "metadata": {
      "needs_background": "light"
     },
     "output_type": "display_data"
    }
   ],
   "source": [
    "#Test result\n",
    "predictions_test = model.predict([test_feature])\n",
    "print(predictions_test.shape)\n",
    "test_pre = np.argmax(predictions_test,axis = 1)\n",
    "print(test_pre.shape)\n",
    "\n",
    "#测试结果\n",
    "import sklearn\n",
    "import sklearn.metrics\n",
    "import matplotlib.pyplot as plt   \n",
    "import itertools\n",
    "from sklearn.metrics import accuracy_score\n",
    "cm=sklearn.metrics.confusion_matrix(test_y, test_pre)\n",
    "\n",
    "plot_confusion_matrix(cm,classes=['0','1','2'],title='Confusion Matrix')\n",
    "\n",
    "\n",
    "from sklearn.metrics import classification_report\n",
    "print(classification_report(test_y, test_pre,digits=5))\n",
    "from sklearn.metrics import accuracy_score\n",
    "print(\"accuracy:\",accuracy_score(test_y, test_pre))"
   ]
  },
  {
   "cell_type": "code",
   "execution_count": 24,
   "metadata": {},
   "outputs": [],
   "source": [
    "from sklearn.preprocessing import label_binarize\n",
    "from itertools import cycle\n",
    "# 将标签二值化\n",
    "y_test_bin = label_binarize(test_y, classes=[0, 1, 2])\n",
    "n_classes = y_test_bin.shape[1]\n",
    "\n",
    "#test_pre_bin=label_binarize(test_pre, classes=[0, 1, 2]) ###"
   ]
  },
  {
   "cell_type": "code",
   "execution_count": 25,
   "metadata": {},
   "outputs": [],
   "source": [
    "from sklearn.metrics import roc_curve, auc\n",
    "# 计算每一类的ROC\n",
    "fpr = dict()\n",
    "tpr = dict()\n",
    "thresholds = dict()\n",
    "roc_auc = dict()\n",
    "for i in range(n_classes):\n",
    "    fpr[i], tpr[i], thresholds[i] = roc_curve(y_test_bin[:, i], predictions_test[:, i])\n",
    "    roc_auc[i] = auc(fpr[i], tpr[i])"
   ]
  },
  {
   "cell_type": "code",
   "execution_count": 26,
   "metadata": {},
   "outputs": [
    {
     "name": "stderr",
     "output_type": "stream",
     "text": [
      "C:\\Users\\zhujingbao\\Anaconda3\\lib\\site-packages\\ipykernel_launcher.py:9: DeprecationWarning: scipy.interp is deprecated and will be removed in SciPy 2.0.0, use numpy.interp instead\n",
      "  if __name__ == '__main__':\n"
     ]
    }
   ],
   "source": [
    "# Compute macro-average ROC curve and ROC area（方法一）\n",
    "# First aggregate all false positive rates\n",
    "all_fpr = np.unique(np.concatenate([fpr[i] for i in range(n_classes)]))\n",
    "\n",
    "from scipy import interp\n",
    "# Then interpolate all ROC curves at this points\n",
    "mean_tpr = np.zeros_like(all_fpr)\n",
    "for i in range(n_classes):\n",
    "    mean_tpr += interp(all_fpr, fpr[i], tpr[i])"
   ]
  },
  {
   "cell_type": "code",
   "execution_count": 27,
   "metadata": {},
   "outputs": [],
   "source": [
    "## Finally average it and compute AUC\n",
    "mean_tpr /= n_classes\n",
    "fpr[\"macro\"] = all_fpr\n",
    "tpr[\"macro\"] = mean_tpr\n",
    "roc_auc[\"macro\"] = auc(fpr[\"macro\"], tpr[\"macro\"])"
   ]
  },
  {
   "cell_type": "code",
   "execution_count": 28,
   "metadata": {},
   "outputs": [
    {
     "data": {
      "text/plain": [
       "<Figure size 432x288 with 0 Axes>"
      ]
     },
     "metadata": {},
     "output_type": "display_data"
    },
    {
     "data": {
      "image/png": "[encoded data removed]",
      "text/plain": [
       "<Figure size 288x576 with 1 Axes>"
      ]
     },
     "metadata": {
      "needs_background": "light"
     },
     "output_type": "display_data"
    }
   ],
   "source": [
    "# Plot all ROC curves\n",
    "lw=2\n",
    "plt.figure()\n",
    "fig = plt.figure(figsize=(4, 8)) #调用figure创建一个绘图对象\n",
    "colors = cycle(['aqua', 'darkorange', 'cornflowerblue'])\n",
    "for i, color in zip(range(n_classes), colors):\n",
    "    plt.plot(fpr[i], tpr[i], color=color, lw=lw,\n",
    "             label='ROC curve of class {0} (area = {1:0.3f})'\n",
    "             ''.format(i, roc_auc[i]))\n",
    "    \n",
    "    \n",
    "\n",
    "    \n",
    "plt.plot(fpr[\"macro\"], tpr[\"macro\"],\n",
    "         label='macro-average ROC curve (area = {0:0.3f})'\n",
    "               ''.format(roc_auc[\"macro\"]),\n",
    "         color='red')\n",
    "\n",
    "\n",
    "#plt.plot([0, 1], [0, 1], 'k--', lw=lw)\n",
    "plt.xlim([-0.02, 1.0])\n",
    "#plt.ylim([0.0, 1.02])\n",
    "plt.ylim([0.96, 1])\n",
    "plt.xlabel('False Positive Rate')\n",
    "plt.ylabel('True Positive Rate')\n",
    "plt.title('Some extension of Receiver operating characteristic to multi-class')\n",
    "plt.legend(loc=\"lower right\")\n",
    "plt.show()"
   ]
  },
  {
   "cell_type": "code",
   "execution_count": 29,
   "metadata": {},
   "outputs": [],
   "source": [
    "#保存噪声的ROC曲线\n",
    "fpr_noise=fpr[0]\n",
    "fpr_noise=fpr_noise.reshape(fpr_noise.shape[0],1)\n",
    "tpr_noise=tpr[0]\n",
    "tpr_noise=tpr_noise.reshape(tpr_noise.shape[0],1)\n",
    "threshold_noise=np.round(thresholds[0], decimals=9)\n",
    "threshold_noise=threshold_noise.reshape(threshold_noise.shape[0],1)\n",
    "\n",
    "\n",
    "roc_noise=np.concatenate((fpr_noise,tpr_noise,threshold_noise),axis=1)\n",
    "\n",
    "data_noise = pd.DataFrame(roc_noise) #将数组转换为dataframe结构\n",
    "data_noise.columns=['fpr','tpr','threshold']\n",
    "writer_noise = pd.ExcelWriter(r'\\地震动参数数据\\ROC_noise.xls')   # 写入Excel文件\n",
    "\n",
    "data_noise.to_excel(writer_noise,float_format='%.9f',index=False)   ## ‘page_1’是写入excel的sheet名\n",
    "writer_noise.save()\n",
    "writer_noise.close()"
   ]
  },
  {
   "cell_type": "code",
   "execution_count": 30,
   "metadata": {},
   "outputs": [],
   "source": [
    "#保存小震的ROC曲线\n",
    "fpr_xz=fpr[1]\n",
    "fpr_xz=fpr_xz.reshape(fpr_xz.shape[0],1)\n",
    "tpr_xz=tpr[1]\n",
    "tpr_xz=tpr_xz.reshape(tpr_xz.shape[0],1)\n",
    "threshold_xz=np.round(thresholds[1], decimals=9)\n",
    "threshold_xz=threshold_xz.reshape(threshold_xz.shape[0],1)\n",
    "roc_xz=np.concatenate((fpr_xz,tpr_xz,threshold_xz),axis=1)\n",
    "\n",
    "data_xz = pd.DataFrame(roc_xz) #将数组转换为dataframe结构\n",
    "data_xz.columns=['fpr','tpr','threshold']\n",
    "writer_xz = pd.ExcelWriter(r'\\地震动参数数据\\ROC_小震.xls')   # 写入Excel文件\n",
    "\n",
    "data_xz.to_excel(writer_xz,float_format='%.9f',index=False)   ## ‘page_1’是写入excel的sheet名\n",
    "writer_xz.save()\n",
    "writer_xz.close()"
   ]
  },
  {
   "cell_type": "code",
   "execution_count": 31,
   "metadata": {},
   "outputs": [],
   "source": [
    "#保存大震的ROC曲线\n",
    "fpr_dz=fpr[2]\n",
    "fpr_dz=fpr_dz.reshape(fpr_dz.shape[0],1)\n",
    "tpr_dz=tpr[2]\n",
    "tpr_dz=tpr_dz.reshape(tpr_dz.shape[0],1)\n",
    "threshold_dz=np.round(thresholds[2], decimals=9)\n",
    "threshold_dz=threshold_dz.reshape(threshold_dz.shape[0],1)\n",
    "roc_dz=np.concatenate((fpr_dz,tpr_dz,threshold_dz),axis=1)\n",
    "\n",
    "data_dz = pd.DataFrame(roc_dz) #将数组转换为dataframe结构\n",
    "data_dz.columns=['fpr','tpr','threshold']\n",
    "writer_dz = pd.ExcelWriter(r'\\地震动参数数据\\ROC_大震.xls')   # 写入Excel文件\n",
    "\n",
    "data_dz.to_excel(writer_dz,float_format='%.5f',index=False)   ## ‘page_1’是写入excel的sheet名\n",
    "writer_dz.save()\n",
    "writer_dz.close()"
   ]
  },
  {
   "cell_type": "code",
   "execution_count": 32,
   "metadata": {},
   "outputs": [],
   "source": [
    "#保存Marco的ROC曲线\n",
    "fpr_Marco=fpr[\"macro\"]\n",
    "fpr_Marco=fpr_Marco.reshape(fpr_Marco.shape[0],1)\n",
    "tpr_Marco=tpr[\"macro\"]\n",
    "tpr_Marco=tpr_Marco.reshape(tpr_Marco.shape[0],1)\n",
    "\n",
    "roc_Marco=np.concatenate((fpr_Marco,tpr_Marco),axis=1)\n",
    "\n",
    "data_Marco = pd.DataFrame(roc_Marco) #将数组转换为dataframe结构\n",
    "data_Marco.columns=['fpr','tpr']\n",
    "writer_Marco = pd.ExcelWriter(r'\\地震动参数数据\\ROC_Marco.xls')   # 写入Excel文件\n",
    "\n",
    "data_Marco.to_excel(writer_Marco,float_format='%.5f',index=False)   ## ‘page_1’是写入excel的sheet名\n",
    "writer_Marco.save()\n",
    "writer_Marco.close()"
   ]
  },
  {
   "cell_type": "code",
   "execution_count": null,
   "metadata": {},
   "outputs": [],
   "source": []
  },
  {
   "cell_type": "code",
   "execution_count": null,
   "metadata": {},
   "outputs": [],
   "source": []
  },
  {
   "cell_type": "code",
   "execution_count": null,
   "metadata": {},
   "outputs": [],
   "source": []
  },
  {
   "cell_type": "code",
   "execution_count": null,
   "metadata": {},
   "outputs": [],
   "source": []
  },
  {
   "cell_type": "code",
   "execution_count": null,
   "metadata": {},
   "outputs": [],
   "source": []
  }
 ],
 "metadata": {
  "anaconda-cloud": {},
  "kernelspec": {
   "display_name": "Python 3",
   "language": "python",
   "name": "python3"
  },
  "language_info": {
   "codemirror_mode": {
    "name": "ipython",
    "version": 3
   },
   "file_extension": ".py",
   "mimetype": "text/x-python",
   "name": "python",
   "nbconvert_exporter": "python",
   "pygments_lexer": "ipython3",
   "version": "3.7.0"
  }
 },
 "nbformat": 4,
 "nbformat_minor": 1
}
