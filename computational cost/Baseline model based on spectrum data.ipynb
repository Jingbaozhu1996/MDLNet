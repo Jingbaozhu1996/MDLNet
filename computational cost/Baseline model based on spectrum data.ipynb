{
 "cells": [
  {
   "cell_type": "code",
   "execution_count": 1,
   "metadata": {},
   "outputs": [],
   "source": [
    "\n",
    "import os\n",
    "import sys\n",
    "import random\n",
    "import pandas as pd\n",
    "import numpy as np\n",
    "#import cv2\n",
    "import matplotlib.pyplot as plt\n",
    "\n",
    "import tensorflow as tf\n",
    "from tensorflow import keras\n",
    "## Seeding \n",
    "\n",
    "def setup_seed(seed):\n",
    "    random.seed(seed)  # 为python设置随机种子\n",
    "    np.random.seed(seed)  # 为numpy设置随机种子\n",
    "    tf.random.set_seed(seed)  # tf cpu fix seed\n",
    "    os.environ['TF_DETERMINISTIC_OPS'] = '1'  # tf gpu fix seed, please `pip install tensorflow-determinism` first\n",
    "\n",
    "setup_seed(2020)\n",
    "\n",
    "\n",
    "seed = 2020\n",
    "random.seed = 2020\n",
    "np.random.seed = 2020\n",
    "tf.seed = 2020\n",
    "tf.random.set_seed(2020)\n"
   ]
  },
  {
   "cell_type": "code",
   "execution_count": 2,
   "metadata": {},
   "outputs": [],
   "source": [
    "from keras.layers import add, ConvLSTM2D, Reshape, Dense, AveragePooling2D, Input, Conv2DTranspose, TimeDistributed, Dropout, Flatten\n",
    "from keras.callbacks import ModelCheckpoint, LearningRateScheduler\n",
    "from keras.layers import add, Reshape, Dense, Input, TimeDistributed, Dropout, Activation, LSTM, Conv1D, Cropping1D,GRU\n",
    "from keras.layers import MaxPooling1D, UpSampling1D, Cropping1D, SpatialDropout1D, Bidirectional, BatchNormalization \n",
    "from keras.models import Model, Sequential\n",
    "import keras\n",
    "from keras.models import Sequential\n",
    "from keras.layers.normalization import BatchNormalization\n",
    "from keras.layers.convolutional import Conv2D\n",
    "from keras.layers.convolutional import MaxPooling2D\n",
    "from keras.layers.core import Activation\n",
    "from keras.layers.core import Dropout\n",
    "from keras.layers.core import Dense\n",
    "from keras.layers import Flatten\n",
    "from keras.layers import Input\n",
    "from keras.models import Model\n",
    "from keras.callbacks import ModelCheckpoint, LearningRateScheduler\n",
    "from keras.callbacks import ReduceLROnPlateau\n",
    "from keras.callbacks import EarlyStopping\n",
    "from keras import metrics\n",
    "from keras.optimizers import Adam\n",
    "import matplotlib"
   ]
  },
  {
   "cell_type": "code",
   "execution_count": 3,
   "metadata": {},
   "outputs": [
    {
     "name": "stdout",
     "output_type": "stream",
     "text": [
      "(53286, 1200)\n"
     ]
    }
   ],
   "source": [
    "#时域模态信息\n",
    "\n",
    "import scipy.io as scio\n",
    "import pandas as pd\n",
    "\n",
    "#1 input\n",
    "feature1 = r'\\时域1-5s\\ACC_EW.mat'\n",
    "data1 = scio.loadmat(feature1)\n",
    "AA=data1['ACC_EW']\n",
    "A=AA[:,0:400]\n",
    "\n",
    "feature2 = r'\\时域1-5s\\ACC_NS.mat'\n",
    "data2 = scio.loadmat(feature2)\n",
    "BB=data2['ACC_NS']\n",
    "B=BB[:,0:400]\n",
    "\n",
    "feature3 = r'\\时域1-5s\\ACC_UD.mat'\n",
    "data3 = scio.loadmat(feature3)\n",
    "CC=data3['ACC_UD']\n",
    "C=CC[:,0:400]\n",
    "\n",
    "\n",
    "raw_data1=np.hstack((A,B))\n",
    "x_data=np.hstack((raw_data1,C))\n",
    "\n",
    "print(x_data.shape)\n"
   ]
  },
  {
   "cell_type": "code",
   "execution_count": 4,
   "metadata": {},
   "outputs": [
    {
     "name": "stdout",
     "output_type": "stream",
     "text": [
      "(53286, 600)\n"
     ]
    }
   ],
   "source": [
    "#频域模态信息\n",
    "\n",
    "import scipy.io as scio\n",
    "import pandas as pd\n",
    "\n",
    "#input\n",
    "feature1s = r'\\频域\\3s\\spec_EW.mat'\n",
    "data1s = scio.loadmat(feature1s)\n",
    "AAs=data1s['spec_EW']\n",
    "As=AAs[:,0:200]\n",
    "\n",
    "feature2s = r'\\频域\\3s\\spec_NS.mat'\n",
    "data2s = scio.loadmat(feature2s)\n",
    "BBs=data2s['spec_NS']\n",
    "Bs=BBs[:,0:200]\n",
    "\n",
    "feature3s = r'\\频域\\3s\\spec_UD.mat'\n",
    "data3s = scio.loadmat(feature3s)\n",
    "CCs=data3s['spec_UD']\n",
    "Cs=CCs[:,0:200]\n",
    "\n",
    "raw_data1s=np.hstack((As,Bs))\n",
    "x_datas=np.hstack((raw_data1s,Cs))\n",
    "\n",
    "print(x_datas.shape)\n",
    "\n"
   ]
  },
  {
   "cell_type": "code",
   "execution_count": 5,
   "metadata": {},
   "outputs": [
    {
     "name": "stdout",
     "output_type": "stream",
     "text": [
      "[0.01591836 0.06319288 1.28865615 0.00216419 1.30908207 0.00139702\n",
      " 0.1574331  0.30811366 0.00250608 1.        ]\n",
      "(53286, 10)\n"
     ]
    }
   ],
   "source": [
    "#特征模态信息\n",
    "\n",
    "import scipy.io as scio\n",
    "import pandas as pd\n",
    "\n",
    "label = pd.read_csv(open(r'\\特征模态信息3s.csv',encoding='UTF-8'))\n",
    "y_data=label.iloc[:,[0,1,2,3,4,5,6,7,8,9]].values  #特征嵌入\n",
    "print(y_data[0])\n",
    "print(y_data.shape)"
   ]
  },
  {
   "cell_type": "code",
   "execution_count": 6,
   "metadata": {},
   "outputs": [],
   "source": [
    "from sklearn.model_selection import train_test_split  #random_state=21  24  26  27  65\n",
    "#时域划分\n",
    "train_xxt, test_xxt, train_y1, test_y1 = train_test_split(x_data, y_data, test_size=0.2, random_state=30) \n",
    "#频域划分\n",
    "train_xxs, test_xxs, train_y1, test_y1 = train_test_split(x_datas, y_data, test_size=0.2, random_state=30) "
   ]
  },
  {
   "cell_type": "code",
   "execution_count": 7,
   "metadata": {},
   "outputs": [
    {
     "name": "stdout",
     "output_type": "stream",
     "text": [
      "(42628, 1)\n",
      "[1.]\n",
      "(42628, 9)\n",
      "[7.6042600e-04 3.7566390e-03 8.8836015e-02 2.4579300e-05 1.3273381e-01\n",
      " 1.1320200e-05 2.7224624e-01 2.6569918e-01 2.0702300e-04]\n",
      "(10658, 1)\n",
      "[2.]\n",
      "(10658, 9)\n",
      "[0.02253614 0.07986302 0.60228547 0.04616989 1.73744674 0.00363566\n",
      " 1.52385847 0.83315002 0.03434189]\n"
     ]
    }
   ],
   "source": [
    "train_y=train_y1[:,[9]]\n",
    "train_feature=train_y1[:,[0,1,2,3,4,5,6,7,8]]\n",
    "print(train_y.shape)\n",
    "print(train_y[1])\n",
    "\n",
    "print(train_feature.shape)\n",
    "print(train_feature[1])\n",
    "\n",
    "\n",
    "test_y=test_y1[:,[9]]\n",
    "test_feature=test_y1[:,[0,1,2,3,4,5,6,7,8]]\n",
    "print(test_y.shape)\n",
    "print(test_y[1])\n",
    "\n",
    "print(test_feature.shape)\n",
    "print(test_feature[1])\n"
   ]
  },
  {
   "cell_type": "code",
   "execution_count": 8,
   "metadata": {},
   "outputs": [],
   "source": [
    "#时域模态 训练\n",
    "train_xt=[]\n",
    "for i in range(len(train_xxt)):\n",
    "    train_xt.append(np.array(train_xxt[i].reshape(3,1,400)).T)"
   ]
  },
  {
   "cell_type": "code",
   "execution_count": 9,
   "metadata": {},
   "outputs": [],
   "source": [
    "#时域模态 测试\n",
    "test_xt=[]\n",
    "for i in range(len(test_xxt)):\n",
    "    test_xt.append(np.array(test_xxt[i].reshape(3,1,400)).T)"
   ]
  },
  {
   "cell_type": "code",
   "execution_count": 10,
   "metadata": {},
   "outputs": [],
   "source": [
    "#频域模态 训练\n",
    "train_xs=[]\n",
    "for i in range(len(train_xxs)):\n",
    "    train_xs.append(np.array(train_xxs[i].reshape(3,1,200)).T)\n"
   ]
  },
  {
   "cell_type": "code",
   "execution_count": 11,
   "metadata": {},
   "outputs": [],
   "source": [
    "#频域模态 测试\n",
    "test_xs=[]\n",
    "for i in range(len(test_xxs)):\n",
    "    test_xs.append(np.array(test_xxs[i].reshape(3,1,200)).T)"
   ]
  },
  {
   "cell_type": "code",
   "execution_count": 12,
   "metadata": {},
   "outputs": [],
   "source": [
    "train_xt=np.array(train_xt)\n",
    "test_xt=np.array(test_xt)\n",
    "\n",
    "train_xs=np.array(train_xs)\n",
    "test_xs=np.array(test_xs)"
   ]
  },
  {
   "cell_type": "code",
   "execution_count": 13,
   "metadata": {},
   "outputs": [
    {
     "name": "stdout",
     "output_type": "stream",
     "text": [
      "0 42628\n",
      "1 400\n",
      "(42628, 400, 3)\n",
      "0 42628\n",
      "1 200\n",
      "(42628, 200, 3)\n"
     ]
    }
   ],
   "source": [
    "#3#  ##Reshaping\n",
    "#时域\n",
    "train_xt = np.reshape(train_xt, (train_xt.shape[0], 400, 3))\n",
    "test_xt = np.reshape(test_xt, (test_xt.shape[0], 400, 3))\n",
    "print(\"0\",train_xt.shape[0])\n",
    "print(\"1\",train_xt.shape[1])\n",
    "print(train_xt.shape)\n",
    "\n",
    "\n",
    "#频域\n",
    "train_xs = np.reshape(train_xs, (train_xs.shape[0], 200, 3))\n",
    "test_xs = np.reshape(test_xs, (test_xs.shape[0], 200, 3))\n",
    "print(\"0\",train_xs.shape[0])\n",
    "print(\"1\",train_xs.shape[1])\n",
    "print(train_xs.shape)\n",
    "\n"
   ]
  },
  {
   "cell_type": "code",
   "execution_count": 14,
   "metadata": {},
   "outputs": [],
   "source": [
    "#from tensorflow import keras\n",
    "from keras import backend as K\n",
    "from keras.engine.topology import Layer\n",
    "\n",
    "class Self_Attention(Layer):\n",
    " \n",
    "    def __init__(self, output_dim, **kwargs):\n",
    "        self.output_dim = output_dim\n",
    "        super(Self_Attention, self).__init__(**kwargs)\n",
    " \n",
    "    def build(self, input_shape):\n",
    "        # 为该层创建一个可训练的权重\n",
    "        #inputs.shape = (batch_size, time_steps, seq_len)\n",
    "        self.kernel = self.add_weight(name='kernel',\n",
    "                                      shape=(3,input_shape[2], self.output_dim),\n",
    "                                      initializer='uniform',\n",
    "                                      trainable=True)\n",
    " \n",
    "        super(Self_Attention, self).build(input_shape)  # 一定要在最后调用它\n",
    " \n",
    "    def call(self, x):\n",
    "        WQ = K.dot(x, self.kernel[0])\n",
    "        WK = K.dot(x, self.kernel[1])\n",
    "        WV = K.dot(x, self.kernel[2])\n",
    " \n",
    "        print(\"WQ.shape\",WQ.shape)\n",
    " \n",
    "        print(\"K.permute_dimensions(WK, [0, 2, 1]).shape\",K.permute_dimensions(WK, [0, 2, 1]).shape)\n",
    " \n",
    " \n",
    "        QK = K.batch_dot(WQ,K.permute_dimensions(WK, [0, 2, 1]))\n",
    " \n",
    "        QK = QK / (64**0.5)\n",
    " \n",
    "        QK = K.softmax(QK)\n",
    " \n",
    "        print(\"QK.shape\",QK.shape)\n",
    " \n",
    "        V = K.batch_dot(QK,WV)\n",
    " \n",
    "        return V\n",
    " \n",
    "    def compute_output_shape(self, input_shape):\n",
    " \n",
    "        return (input_shape[0],input_shape[1],self.output_dim)"
   ]
  },
  {
   "cell_type": "code",
   "execution_count": 15,
   "metadata": {},
   "outputs": [],
   "source": [
    "seed=50\n",
    "def Timedomain(x):\n",
    "    \n",
    "    x = tf.keras.layers.Conv1D(128, 3, activation='relu', padding='same',\\\n",
    "                            kernel_initializer=keras.initializers.he_normal(seed=2020),\\\n",
    "                            bias_initializer=keras.initializers.he_normal(seed=2020))(x)  \n",
    "    x = tf.keras.layers.MaxPooling1D(pool_size=2,strides=2,padding=\"same\")(x) # 高宽各减半的池化层  pool_size=2,strides=2,\n",
    "\n",
    "    x = tf.keras.layers.Conv1D(64, 3, activation='relu', padding='same',\\\n",
    "                            kernel_initializer=keras.initializers.he_normal(seed=2020),\\\n",
    "                            bias_initializer=keras.initializers.he_normal(seed=2020))(x)  \n",
    "    x = tf.keras.layers.MaxPooling1D(pool_size=2,strides=2,padding=\"same\")(x) # 高宽各减半的池化层  pool_size=2,strides=2,\n",
    "    \n",
    "    \n",
    "    x = tf.keras.layers.Conv1D(32, 3, activation='relu', padding='same',\\\n",
    "                            kernel_initializer=keras.initializers.he_normal(seed=2020),\\\n",
    "                            bias_initializer=keras.initializers.he_normal(seed=2020))(x)  \n",
    "    x = tf.keras.layers.MaxPooling1D(pool_size=2,strides=2,padding=\"same\")(x) # 高宽各减半的池化层  pool_size=2\n",
    "    x = tf.keras.layers.Dropout(rate=0.2)(x) #0.458\n",
    "    \n",
    "\n",
    "    x = tf.keras.layers.Bidirectional(GRU(128,use_bias=True, return_sequences = True,activation='tanh',\\\n",
    "                                          kernel_initializer=keras.initializers.he_normal(seed=2020),\\\n",
    "                                          bias_initializer=keras.initializers.he_normal(seed=2020),recurrent_activation='sigmoid',\\\n",
    "                                          reset_after = True,recurrent_dropout=0,unroll=False,\\\n",
    "                                          recurrent_initializer=keras.initializers.he_normal(seed=2020)))(x)    \n",
    "    \n",
    "    x = tf.keras.layers.Bidirectional(GRU(64,use_bias=True, return_sequences = False,activation='tanh',\\\n",
    "                                          kernel_initializer=keras.initializers.he_normal(seed=2020),\\\n",
    "                                          bias_initializer=keras.initializers.he_normal(seed=2020),recurrent_activation='sigmoid',\\\n",
    "                                          reset_after = True,recurrent_dropout=0,unroll=False,\\\n",
    "                                          recurrent_initializer=keras.initializers.he_normal(seed=2020)))(x)\n",
    "    x = tf.keras.layers.Dropout(rate=0.2)(x) #0.458    \n",
    "    \n",
    "    return x\n",
    "\n",
    "def Specdomain(x):\n",
    "    \n",
    "    x = tf.keras.layers.Conv1D(64, 3, activation='relu', padding='same',\\\n",
    "                            kernel_initializer=keras.initializers.he_normal(seed=2020),\\\n",
    "                            bias_initializer=keras.initializers.he_normal(seed=2020))(x)  \n",
    "    x = tf.keras.layers.MaxPooling1D(pool_size=2,strides=2,padding=\"same\")(x) # 高宽各减半的池化层  pool_size=2\n",
    "    \n",
    "    \n",
    "    x = tf.keras.layers.Conv1D(32, 3, activation='relu', padding='same',\\\n",
    "                            kernel_initializer=keras.initializers.he_normal(seed=2020),\\\n",
    "                            bias_initializer=keras.initializers.he_normal(seed=2020))(x)  \n",
    "    x = tf.keras.layers.MaxPooling1D(pool_size=2,strides=2,padding=\"same\")(x) # 高宽各减半的池化层  pool_size=2\n",
    "    x = tf.keras.layers.Dropout(rate=0.2)(x) #0.458\n",
    "\n",
    "    x = tf.keras.layers.Bidirectional(GRU(64,use_bias=True, return_sequences = True,activation='tanh',\\\n",
    "                                          kernel_initializer=keras.initializers.he_normal(seed=2020),\\\n",
    "                                          bias_initializer=keras.initializers.he_normal(seed=2020),recurrent_activation='sigmoid',\\\n",
    "                                          reset_after = True,recurrent_dropout=0,unroll=False,\\\n",
    "                                          recurrent_initializer=keras.initializers.he_normal(seed=2020)))(x)\n",
    "    \n",
    "\n",
    "    x = tf.keras.layers.Bidirectional(GRU(32,use_bias=True, return_sequences = False,activation='tanh',\\\n",
    "                                          kernel_initializer=keras.initializers.he_normal(seed=2020),\\\n",
    "                                          bias_initializer=keras.initializers.he_normal(seed=2020),recurrent_activation='sigmoid',\\\n",
    "                                          reset_after = True,recurrent_dropout=0,unroll=False,\\\n",
    "                                          recurrent_initializer=keras.initializers.he_normal(seed=2020)))(x)\n",
    "    x = tf.keras.layers.Dropout(rate=0.2)(x) #0.458     \n",
    "    \n",
    "    \n",
    "    return x"
   ]
  },
  {
   "cell_type": "code",
   "execution_count": 16,
   "metadata": {},
   "outputs": [],
   "source": [
    "seed=50\n",
    "drop_rate = 0.2\n",
    "from tensorflow import keras\n",
    "from keras.models import Model\n",
    "def CRmodel():\n",
    "    inpt2 = Input(shape=(200, 3), name='input_layer2') #频域\n",
    "    \n",
    "    \n",
    "    x2 = Specdomain(inpt2)\n",
    "\n",
    "\n",
    "    e = Dense(64, activation='relu')(x2)#relu\n",
    "    e = Dense(32, activation='relu')(e)\n",
    "    e = Dense(3)(e)\n",
    "    oupts = Activation('softmax', name='output_layer')(e)\n",
    "\n",
    "#    \n",
    "    model=Model(inputs=[inpt2], outputs=oupts)\n",
    "    return model"
   ]
  },
  {
   "cell_type": "code",
   "execution_count": 17,
   "metadata": {},
   "outputs": [
    {
     "name": "stdout",
     "output_type": "stream",
     "text": [
      "Model: \"functional_1\"\n",
      "_________________________________________________________________\n",
      "Layer (type)                 Output Shape              Param #   \n",
      "=================================================================\n",
      "input_layer2 (InputLayer)    [(None, 200, 3)]          0         \n",
      "_________________________________________________________________\n",
      "conv1d (Conv1D)              (None, 200, 64)           640       \n",
      "_________________________________________________________________\n",
      "max_pooling1d (MaxPooling1D) (None, 100, 64)           0         \n",
      "_________________________________________________________________\n",
      "conv1d_1 (Conv1D)            (None, 100, 32)           6176      \n",
      "_________________________________________________________________\n",
      "max_pooling1d_1 (MaxPooling1 (None, 50, 32)            0         \n",
      "_________________________________________________________________\n",
      "dropout (Dropout)            (None, 50, 32)            0         \n",
      "_________________________________________________________________\n",
      "bidirectional (Bidirectional (None, 50, 128)           37632     \n",
      "_________________________________________________________________\n",
      "bidirectional_1 (Bidirection (None, 64)                31104     \n",
      "_________________________________________________________________\n",
      "dropout_1 (Dropout)          (None, 64)                0         \n",
      "_________________________________________________________________\n",
      "dense (Dense)                (None, 64)                4160      \n",
      "_________________________________________________________________\n",
      "dense_1 (Dense)              (None, 32)                2080      \n",
      "_________________________________________________________________\n",
      "dense_2 (Dense)              (None, 3)                 99        \n",
      "_________________________________________________________________\n",
      "output_layer (Activation)    (None, 3)                 0         \n",
      "=================================================================\n",
      "Total params: 81,891\n",
      "Trainable params: 81,891\n",
      "Non-trainable params: 0\n",
      "_________________________________________________________________\n"
     ]
    }
   ],
   "source": [
    "#优点：由于DNN几乎可以拟合任何函数，所以DNN的非线性拟合能力非常强。往往深而窄的网络要更节约资源。\n",
    "from keras.layers import Dense,SimpleRNN,Embedding,GRU,Bidirectional\n",
    "from keras import regularizers\n",
    "from tensorflow.keras import layers,Sequential,losses,optimizers,datasets\n",
    "from keras.callbacks import EarlyStopping\n",
    "from keras.callbacks import ReduceLROnPlateau\n",
    "from sklearn.utils import class_weight\n",
    "from keras.layers import Dense,SimpleRNN,Embedding,GRU,Bidirectional\n",
    "from keras import regularizers\n",
    "\n",
    "\n",
    "model = CRmodel()\n",
    "model.summary()"
   ]
  },
  {
   "cell_type": "code",
   "execution_count": 18,
   "metadata": {},
   "outputs": [],
   "source": [
    "### TRAIN A MODEL FOR EACH STORES USING ALL THE DATA AVAILALBE FROM OTHER STORES ###\n",
    "\n",
    "seed = 2020\n",
    "random.seed = 2020\n",
    "np.random.seed = 2020\n",
    "tf.seed = 2020\n",
    "tf.random.set_seed(2020)\n"
   ]
  },
  {
   "cell_type": "code",
   "execution_count": 19,
   "metadata": {},
   "outputs": [
    {
     "name": "stdout",
     "output_type": "stream",
     "text": [
      "Epoch 1/500\n",
      "150/150 [==============================] - 10s 67ms/step - loss: 0.3425 - acc: 0.8617 - val_loss: 0.2221 - val_acc: 0.9071ss: 0.40 - ETA: 2s - - ETA: 0s - loss: 0.\n",
      "Epoch 2/500\n",
      "150/150 [==============================] - 9s 63ms/step - loss: 0.2240 - acc: 0.9133 - val_loss: 0.1919 - val_acc: 0.9207loss: 0.2379 - acc: 0. - ETA: 7s - loss: 0.23 - ETA:  - ETA: 4s - loss: 0.2248 - acc: 0 - ETA:  - ETA: 2s - loss: 0.2251 - acc: 0.912 - ET - ETA: 0s - loss: 0.2236 - acc: 0.9\n",
      "Epoch 3/500\n",
      "150/150 [==============================] - 9s 63ms/step - loss: 0.2085 - acc: 0.9180 - val_loss: 0.1788 - val_acc: 0.93132170  - ETA: 6s - loss: 0.2135 - acc: 0.9 - ETA: 6s -  - ETA: 4s - lo - ETA: 3s - lo - ETA:\n",
      "Epoch 4/500\n",
      "150/150 [==============================] - 9s 63ms/step - loss: 0.1991 - acc: 0.9221 - val_loss: 0.1839 - val_acc: 0.9268- loss: 0.1996 -  - ETA: 0s - loss: 0.1997 - acc:\n",
      "Epoch 5/500\n",
      "150/150 [==============================] - 9s 63ms/step - loss: 0.1901 - acc: 0.9261 - val_loss: 0.1644 - val_acc: 0.9374\n",
      "Epoch 6/500\n",
      "150/150 [==============================] - 9s 63ms/step - loss: 0.1789 - acc: 0.9306 - val_loss: 0.1543 - val_acc: 0.9390\n",
      "Epoch 7/500\n",
      "150/150 [==============================] - 9s 63ms/step - loss: 0.1718 - acc: 0.9323 - val_loss: 0.1429 - val_acc: 0.9468\n",
      "Epoch 8/500\n",
      "150/150 [==============================] - 9s 63ms/step - loss: 0.1637 - acc: 0.9360 - val_loss: 0.1457 - val_acc: 0.9458\n",
      "Epoch 9/500\n",
      "150/150 [==============================] - 9s 63ms/step - loss: 0.1573 - acc: 0.9392 - val_loss: 0.1368 - val_acc: 0.9493\n",
      "Epoch 10/500\n",
      "150/150 [==============================] - 9s 63ms/step - loss: 0.1500 - acc: 0.9425 - val_loss: 0.1712 - val_acc: 0.9343\n",
      "Epoch 11/500\n",
      "150/150 [==============================] - 10s 64ms/step - loss: 0.1465 - acc: 0.9442 - val_loss: 0.1295 - val_acc: 0.9521\n",
      "Epoch 12/500\n",
      "150/150 [==============================] - 10s 64ms/step - loss: 0.1414 - acc: 0.9455 - val_loss: 0.1258 - val_acc: 0.9517\n",
      "Epoch 13/500\n",
      "150/150 [==============================] - 10s 65ms/step - loss: 0.1382 - acc: 0.9472 - val_loss: 0.1251 - val_acc: 0.9533\n",
      "Epoch 14/500\n",
      "150/150 [==============================] - 9s 63ms/step - loss: 0.1359 - acc: 0.9476 - val_loss: 0.1267 - val_acc: 0.9498\n",
      "Epoch 15/500\n",
      "150/150 [==============================] - 9s 63ms/step - loss: 0.1326 - acc: 0.9493 - val_loss: 0.1296 - val_acc: 0.9510\n",
      "Epoch 16/500\n",
      "150/150 [==============================] - 9s 63ms/step - loss: 0.1290 - acc: 0.9505 - val_loss: 0.1218 - val_acc: 0.9531\n",
      "Epoch 17/500\n",
      "150/150 [==============================] - 9s 63ms/step - loss: 0.1290 - acc: 0.9492 - val_loss: 0.1246 - val_acc: 0.9519\n",
      "Epoch 18/500\n",
      "150/150 [==============================] - 9s 63ms/step - loss: 0.1268 - acc: 0.9512 - val_loss: 0.1225 - val_acc: 0.9521\n",
      "Epoch 19/500\n",
      "150/150 [==============================] - 9s 63ms/step - loss: 0.1189 - acc: 0.9542 - val_loss: 0.1193 - val_acc: 0.9545\n",
      "Epoch 20/500\n",
      "150/150 [==============================] - 9s 63ms/step - loss: 0.1154 - acc: 0.9551 - val_loss: 0.1198 - val_acc: 0.9561 - loss: 0.1153 - acc: - ETA: 2s - loss: 0.115 - ETA: 1s -\n",
      "Epoch 21/500\n",
      "150/150 [==============================] - 9s 63ms/step - loss: 0.1156 - acc: 0.9555 - val_loss: 0.1184 - val_acc: 0.9547\n",
      "Epoch 22/500\n",
      "150/150 [==============================] - 9s 63ms/step - loss: 0.1152 - acc: 0.9559 - val_loss: 0.1176 - val_acc: 0.9545\n",
      "Epoch 23/500\n",
      "150/150 [==============================] - 9s 63ms/step - loss: 0.1129 - acc: 0.9563 - val_loss: 0.1157 - val_acc: 0.9566\n",
      "Epoch 24/500\n",
      "150/150 [==============================] - 9s 63ms/step - loss: 0.1147 - acc: 0.9559 - val_loss: 0.1167 - val_acc: 0.9557 - loss: 0.1148 - acc: 0.95\n",
      "Epoch 25/500\n",
      "150/150 [==============================] - 9s 63ms/step - loss: 0.1113 - acc: 0.9562 - val_loss: 0.1163 - val_acc: 0.9573 - ETA: 0s - loss: 0.1112 -\n",
      "Epoch 26/500\n",
      "150/150 [==============================] - 9s 63ms/step - loss: 0.1126 - acc: 0.9561 - val_loss: 0.1151 - val_acc: 0.9571\n",
      "Epoch 27/500\n",
      "150/150 [==============================] - 9s 63ms/step - loss: 0.1110 - acc: 0.9568 - val_loss: 0.1136 - val_acc: 0.9561 loss: 0.1120 - acc: 0 - ETA: 0s - loss: 0.1121 - acc\n",
      "Epoch 28/500\n",
      "150/150 [==============================] - 9s 63ms/step - loss: 0.1105 - acc: 0.9576 - val_loss: 0.1155 - val_acc: 0.9573\n",
      "Epoch 29/500\n",
      "150/150 [==============================] - 9s 63ms/step - loss: 0.1103 - acc: 0.9570 - val_loss: 0.1132 - val_acc: 0.9573\n",
      "Epoch 30/500\n",
      "150/150 [==============================] - 10s 63ms/step - loss: 0.1109 - acc: 0.9569 - val_loss: 0.1139 - val_acc: 0.9554\n",
      "Epoch 31/500\n",
      "150/150 [==============================] - 10s 64ms/step - loss: 0.1117 - acc: 0.9576 - val_loss: 0.1130 - val_acc: 0.9557\n",
      "Epoch 32/500\n",
      "150/150 [==============================] - 10s 64ms/step - loss: 0.1106 - acc: 0.9574 - val_loss: 0.1128 - val_acc: 0.9566 loss: 0.1107 - \n",
      "Epoch 33/500\n",
      "150/150 [==============================] - 10s 63ms/step - loss: 0.1088 - acc: 0.9581 - val_loss: 0.1126 - val_acc: 0.9568\n",
      "Epoch 34/500\n",
      "150/150 [==============================] - 10s 64ms/step - loss: 0.1101 - acc: 0.9576 - val_loss: 0.1125 - val_acc: 0.9575\n",
      "Epoch 35/500\n",
      "150/150 [==============================] - 10s 64ms/step - loss: 0.1103 - acc: 0.9584 - val_loss: 0.1131 - val_acc: 0.9568\n",
      "Epoch 36/500\n",
      "150/150 [==============================] - 10s 65ms/step - loss: 0.1080 - acc: 0.9580 - val_loss: 0.1124 - val_acc: 0.9564\n",
      "Epoch 37/500\n",
      "150/150 [==============================] - 10s 64ms/step - loss: 0.1106 - acc: 0.9573 - val_loss: 0.1124 - val_acc: 0.9566\n",
      "Epoch 38/500\n",
      "150/150 [==============================] - 10s 64ms/step - loss: 0.1096 - acc: 0.9571 - val_loss: 0.1127 - val_acc: 0.9571\n",
      "Epoch 39/500\n",
      "150/150 [==============================] - 10s 63ms/step - loss: 0.1071 - acc: 0.9587 - val_loss: 0.1126 - val_acc: 0.9575s - los - ETA: 3 - ETA: 1s - loss: 0.107 - ETA: 0s - loss: 0.1065 - a\n",
      "Epoch 40/500\n",
      "150/150 [==============================] - 9s 63ms/step - loss: 0.1074 - acc: 0.9578 - val_loss: 0.1126 - val_acc: 0.9578\n",
      "Epoch 41/500\n",
      "150/150 [==============================] - 10s 64ms/step - loss: 0.1080 - acc: 0.9576 - val_loss: 0.1126 - val_acc: 0.9578\n",
      "Epoch 42/500\n",
      "150/150 [==============================] - 10s 64ms/step - loss: 0.1088 - acc: 0.9583 - val_loss: 0.1126 - val_acc: 0.9580\n",
      "Epoch 43/500\n",
      "150/150 [==============================] - 10s 63ms/step - loss: 0.1080 - acc: 0.9577 - val_loss: 0.1125 - val_acc: 0.9582\n",
      "Epoch 44/500\n",
      "150/150 [==============================] - 10s 63ms/step - loss: 0.1104 - acc: 0.9575 - val_loss: 0.1126 - val_acc: 0.9575 3s - loss: 0.1113 - acc: 0.957 - ETA: 2s - loss: 0.1108 - acc - ETA - ETA: 0s - loss: 0.1096 - acc\n",
      "Epoch 45/500\n",
      "150/150 [==============================] - 10s 64ms/step - loss: 0.1086 - acc: 0.9573 - val_loss: 0.1125 - val_acc: 0.9578s - loss: 0.108\n",
      "Epoch 46/500\n",
      "150/150 [==============================] - 10s 63ms/step - loss: 0.1099 - acc: 0.9572 - val_loss: 0.1125 - val_acc: 0.9580\n",
      "Epoch 47/500\n",
      "150/150 [==============================] - 10s 64ms/step - loss: 0.1101 - acc: 0.9577 - val_loss: 0.1126 - val_acc: 0.9582\n",
      "Epoch 48/500\n",
      "150/150 [==============================] - 10s 64ms/step - loss: 0.1089 - acc: 0.9583 - val_loss: 0.1125 - val_acc: 0.9580\n",
      "Epoch 49/500\n",
      "150/150 [==============================] - 10s 64ms/step - loss: 0.1079 - acc: 0.9579 - val_loss: 0.1126 - val_acc: 0.9578\n",
      "Epoch 50/500\n",
      "150/150 [==============================] - 10s 64ms/step - loss: 0.1092 - acc: 0.9573 - val_loss: 0.1125 - val_acc: 0.9580\n",
      "Epoch 51/500\n",
      "150/150 [==============================] - 10s 64ms/step - loss: 0.1090 - acc: 0.9578 - val_loss: 0.1126 - val_acc: 0.9575\n",
      "Epoch 52/500\n",
      "150/150 [==============================] - 10s 64ms/step - loss: 0.1097 - acc: 0.9580 - val_loss: 0.1126 - val_acc: 0.9578\n",
      "Epoch 53/500\n",
      "150/150 [==============================] - 10s 64ms/step - loss: 0.1090 - acc: 0.9581 - val_loss: 0.1126 - val_acc: 0.9575\n"
     ]
    }
   ],
   "source": [
    "import time\n",
    "import datetime\n",
    "epochs=500  # how many passes through our data\n",
    "\n",
    "\n",
    "lr_reducer = ReduceLROnPlateau(monitor='val_acc',\n",
    "                               factor=0.1,\n",
    "                                cooldown= 0,\n",
    "                                patience= 5, #patience= 5\n",
    "                                min_lr=0.5e-6) #min_lr=0.5e-6\n",
    "\n",
    "early_stopping_monitor = EarlyStopping(monitor= 'val_acc', patience = 10) #patience = 45   10\n",
    "callbacks = [lr_reducer, early_stopping_monitor]\n",
    "\n",
    "rms = optimizers.Adam(lr=0.001, beta_1=0.9, beta_2=0.999, epsilon=1e-08)\n",
    "model.compile(optimizer=rms, loss=losses.sparse_categorical_crossentropy,metrics=[\"acc\"])\n",
    " \n",
    "history=model.fit([train_xs], train_y, epochs = epochs,batch_size = 256,shuffle=True,\\\n",
    "                  validation_split=0.1,callbacks=callbacks) #epochs = 20, batch_size = 64   ,class_weight=weights\n"
   ]
  },
  {
   "cell_type": "code",
   "execution_count": 20,
   "metadata": {},
   "outputs": [
    {
     "data": {
      "image/png": "[encoded data removed]",
      "text/plain": [
       "<Figure size 432x288 with 1 Axes>"
      ]
     },
     "metadata": {
      "needs_background": "light"
     },
     "output_type": "display_data"
    },
    {
     "data": {
      "image/png": "[encoded data removed]",
      "text/plain": [
       "<Figure size 432x288 with 1 Axes>"
      ]
     },
     "metadata": {
      "needs_background": "light"
     },
     "output_type": "display_data"
    }
   ],
   "source": [
    "loss = history.history['loss']\n",
    "val_loss = history.history['val_loss']\n",
    "acc = history.history['acc']\n",
    "val_acc = history.history['val_acc']\n",
    "epoch = history.epoch\n",
    "\n",
    "plt.plot(epoch,loss, label='loss')\n",
    "plt.plot(epoch, val_loss, label='val loss')\n",
    "plt.legend()\n",
    "plt.title('epochs vs loss')\n",
    "plt.show()\n",
    "\n",
    "plt.plot(epoch,acc, label='accuracy')\n",
    "plt.plot(epoch, val_acc, label='val accuracy')\n",
    "plt.legend()\n",
    "plt.title('epochs vs accuracy')\n",
    "plt.show()  "
   ]
  },
  {
   "cell_type": "code",
   "execution_count": 21,
   "metadata": {},
   "outputs": [
    {
     "name": "stdout",
     "output_type": "stream",
     "text": [
      "334/334 [==============================] - 3s 10ms/step - loss: 0.1103 - acc: 0.9582\n",
      "1333/1333 [==============================] - 12s 9ms/step - loss: 0.0983 - acc: 0.9621\n",
      "[0.11026012152433395, 0.958153486251831]\n",
      "[0.09826480597257614, 0.9621375799179077]\n"
     ]
    }
   ],
   "source": [
    "results_test = model.evaluate([test_xs], test_y)\n",
    "results_train = model.evaluate([train_xs], train_y)\n",
    "print(results_test)\n",
    "print(results_train)"
   ]
  },
  {
   "cell_type": "code",
   "execution_count": 22,
   "metadata": {},
   "outputs": [],
   "source": [
    "def plot_confusion_matrix(cm, classes,\n",
    "                          normalize = False,\n",
    "                          title = 'Confusion matrix\"',\n",
    "                          cmap = plt.cm.Blues) :\n",
    "    plt.rcParams['font.sans-serif']=['times new roman'] #显示中文标签\n",
    "    plt.imshow(cm, interpolation = 'nearest', cmap = cmap)\n",
    "    plt.title(title,fontproperties='Times New Roman', size=12)\n",
    "    cb=plt.colorbar()\n",
    "    cb.set_label(label='Number of records',fontproperties='Times New Roman',size=10)\n",
    "    cb.ax.tick_params(labelsize=10)\n",
    "    tick_marks = np.arange(len(classes))\n",
    "    plt.xticks(tick_marks, classes, rotation = 0,fontproperties='Times New Roman', size=10)\n",
    "    plt.yticks(tick_marks, classes,fontproperties='Times New Roman', size=10)\n",
    "\n",
    "    thresh = cm.max() / 2.\n",
    "    for i, j in itertools.product(range(cm.shape[0]), range(cm.shape[1])) :\n",
    "        plt.text(j, i, cm[i, j],fontproperties='Times New Roman', size=10,\n",
    "                 horizontalalignment = 'center',\n",
    "                 color = 'white' if cm[i, j] > thresh else 'black')\n",
    "\n",
    "    plt.tight_layout()\n",
    "    plt.ylabel('True label',fontproperties='Times New Roman', fontsize=10)\n",
    "    plt.xlabel('Predicted label', fontproperties='Times New Roman',fontsize=10)"
   ]
  },
  {
   "cell_type": "code",
   "execution_count": 23,
   "metadata": {},
   "outputs": [
    {
     "name": "stdout",
     "output_type": "stream",
     "text": [
      "(42628, 3)\n",
      "(42628,)\n",
      "             precision    recall  f1-score   support\n",
      "\n",
      "        0.0     0.9902    0.9930    0.9916     20803\n",
      "        1.0     0.9536    0.9504    0.9520     16232\n",
      "        2.0     0.8821    0.8813    0.8817      5593\n",
      "\n",
      "avg / total     0.9621    0.9621    0.9621     42628\n",
      "\n"
     ]
    },
    {
     "data": {
      "image/png": "[encoded data removed]",
      "text/plain": [
       "<Figure size 432x288 with 2 Axes>"
      ]
     },
     "metadata": {
      "needs_background": "light"
     },
     "output_type": "display_data"
    }
   ],
   "source": [
    "#Train result\n",
    "predictions_train = model.predict([train_xs])\n",
    "print(predictions_train.shape)\n",
    "train_pre = np.argmax(predictions_train,axis = 1)\n",
    "print(train_pre.shape)\n",
    "\n",
    "#训练结果\n",
    "import sklearn\n",
    "import sklearn.metrics\n",
    "import matplotlib.pyplot as plt   \n",
    "import itertools\n",
    "from sklearn.metrics import accuracy_score\n",
    "cm=sklearn.metrics.confusion_matrix(train_y, train_pre)\n",
    "\n",
    "plot_confusion_matrix(cm,classes=['0','1','2'],title='Confusion Matrix')\n",
    "\n",
    "\n",
    "from sklearn.metrics import classification_report\n",
    "print(classification_report(train_y, train_pre,digits=4))\n"
   ]
  },
  {
   "cell_type": "code",
   "execution_count": 24,
   "metadata": {},
   "outputs": [
    {
     "name": "stdout",
     "output_type": "stream",
     "text": [
      "(1, 400, 3)\n",
      "(1, 200, 3)\n",
      "(1, 9)\n"
     ]
    }
   ],
   "source": [
    "test_xt1=test_xt[0]\n",
    "test_xt1=test_xt1.reshape(1, 400, 3)\n",
    "test_xs1=test_xs[0]\n",
    "test_xs1=test_xs1.reshape(1, 200, 3)\n",
    "test_feature1=test_feature[0]\n",
    "test_feature1=test_feature1.reshape(1,9)\n",
    "print(test_xt1.shape)\n",
    "print(test_xs1.shape)\n",
    "print(test_feature1.shape)"
   ]
  },
  {
   "cell_type": "code",
   "execution_count": 35,
   "metadata": {},
   "outputs": [
    {
     "name": "stdout",
     "output_type": "stream",
     "text": [
      "Elapsed time: 40.41 ms\n"
     ]
    }
   ],
   "source": [
    "import time\n",
    "start_time = time.perf_counter()  # 记录开始时间\n",
    "predictions_test = model.predict([test_xs1])\n",
    "end_time = time.perf_counter()  # 记录结束时间\n",
    "elapsed_time_ms = (end_time - start_time) * 1000  # 转换为毫秒\n",
    "print(f\"Elapsed time: {elapsed_time_ms:.2f} ms\")\n",
    "#print(predictions_test)"
   ]
  },
  {
   "cell_type": "code",
   "execution_count": 24,
   "metadata": {},
   "outputs": [
    {
     "name": "stdout",
     "output_type": "stream",
     "text": [
      "(10658, 3)\n",
      "(10658,)\n",
      "             precision    recall  f1-score   support\n",
      "\n",
      "        0.0    0.99173   0.98983   0.99078      5210\n",
      "        1.0    0.94892   0.94444   0.94667      4032\n",
      "        2.0    0.86298   0.88065   0.87172      1416\n",
      "\n",
      "avg / total    0.95843   0.95815   0.95828     10658\n",
      "\n",
      "accuracy: 0.9581534997185213\n"
     ]
    },
    {
     "data": {
      "image/png": "[encoded data removed]",
      "text/plain": [
       "<Figure size 432x288 with 2 Axes>"
      ]
     },
     "metadata": {
      "needs_background": "light"
     },
     "output_type": "display_data"
    }
   ],
   "source": [
    "#Test result\n",
    "predictions_test = model.predict([test_xs])\n",
    "print(predictions_test.shape)\n",
    "test_pre = np.argmax(predictions_test,axis = 1)\n",
    "print(test_pre.shape)\n",
    "\n",
    "#测试结果\n",
    "import sklearn\n",
    "import sklearn.metrics\n",
    "import matplotlib.pyplot as plt   \n",
    "import itertools\n",
    "from sklearn.metrics import accuracy_score\n",
    "cm=sklearn.metrics.confusion_matrix(test_y, test_pre)\n",
    "\n",
    "plot_confusion_matrix(cm,classes=['0','1','2'],title='Confusion Matrix')\n",
    "\n",
    "\n",
    "from sklearn.metrics import classification_report\n",
    "print(classification_report(test_y, test_pre,digits=5))\n",
    "from sklearn.metrics import accuracy_score\n",
    "print(\"accuracy:\",accuracy_score(test_y, test_pre))"
   ]
  },
  {
   "cell_type": "code",
   "execution_count": null,
   "metadata": {},
   "outputs": [],
   "source": []
  },
  {
   "cell_type": "code",
   "execution_count": null,
   "metadata": {},
   "outputs": [],
   "source": []
  },
  {
   "cell_type": "code",
   "execution_count": null,
   "metadata": {},
   "outputs": [],
   "source": []
  },
  {
   "cell_type": "code",
   "execution_count": null,
   "metadata": {},
   "outputs": [],
   "source": []
  },
  {
   "cell_type": "code",
   "execution_count": null,
   "metadata": {},
   "outputs": [],
   "source": []
  }
 ],
 "metadata": {
  "anaconda-cloud": {},
  "kernelspec": {
   "display_name": "Python 3",
   "language": "python",
   "name": "python3"
  },
  "language_info": {
   "codemirror_mode": {
    "name": "ipython",
    "version": 3
   },
   "file_extension": ".py",
   "mimetype": "text/x-python",
   "name": "python",
   "nbconvert_exporter": "python",
   "pygments_lexer": "ipython3",
   "version": "3.7.0"
  }
 },
 "nbformat": 4,
 "nbformat_minor": 1
}
